{
 "cells": [
  {
   "cell_type": "code",
   "execution_count": null,
   "id": "ef80a3b7",
   "metadata": {},
   "outputs": [],
   "source": [
    "from tp2_csp.v2.algorithm import run\n",
    "import matplotlib.pyplot as plt\n",
    "from tp2_csp.v2.parameters import Parameters\n",
    "from tp2_csp.v2.result import SimulationResult"
   ]
  },
  {
   "cell_type": "code",
   "execution_count": null,
   "id": "f3157697",
   "metadata": {},
   "outputs": [],
   "source": [
    "import concurrent.futures\n",
    "\n",
    "parameters_for_simulations: list[Parameters] = [\n",
    "    Parameters(\n",
    "        population_size=500,\n",
    "        generations=3_000,\n",
    "        # solution_target=76,\n",
    "        tournament_size=20,\n",
    "        mutation_rate=0.60,\n",
    "        crossover_rate=0.8,\n",
    "        mutation_strategy=\"ReverseSubsequence\",\n",
    "    ),\n",
    "    Parameters(\n",
    "        population_size=500,\n",
    "        generations=3_000,\n",
    "        # solution_target=76,\n",
    "        tournament_size=20,\n",
    "        mutation_rate=0.60,\n",
    "        crossover_rate=0.8,\n",
    "        mutation_strategy=\"ReverseSubsequence\",\n",
    "    ),\n",
    "    Parameters(\n",
    "        population_size=500,\n",
    "        generations=3_000,\n",
    "        # solution_target=76,\n",
    "        tournament_size=20,\n",
    "        mutation_rate=0.60,\n",
    "        crossover_rate=0.8,\n",
    "        mutation_strategy=\"ReverseSubsequence\",\n",
    "    ),\n",
    "]\n",
    "\n",
    "results: list[SimulationResult]\n",
    "with concurrent.futures.ProcessPoolExecutor() as executor:\n",
    "    results = list(executor.map(run, parameters_for_simulations))"
   ]
  },
  {
   "cell_type": "code",
   "execution_count": null,
   "id": "138d6bd8",
   "metadata": {},
   "outputs": [],
   "source": [
    "def show_plot_for_run(parameters: Parameters, result: SimulationResult):\n",
    "    x_values = list(range(1, result.generations + 1))\n",
    "    y_values = [solution.calculate_required_bars() for solution in result.best_solutions_by_generation]\n",
    "\n",
    "    fig, ax = plt.subplots()\n",
    "    ax.plot(\n",
    "        x_values,\n",
    "        y_values,\n",
    "        # marker=\"o\",\n",
    "        linestyle=\"-\",\n",
    "        color=\"blue\",\n",
    "    )\n",
    "\n",
    "    ax.set_xlabel(\"Generación\")\n",
    "    ax.set_ylabel(\"Barras usadas\")\n",
    "\n",
    "    str_parameters = str(parameters).split(\" \")\n",
    "    first_paragraph = \" \".join(str_parameters[: len(str_parameters) // 2])\n",
    "    second_paragraph = \" \".join(str_parameters[len(str_parameters) // 2 :])\n",
    "    title = f\"{first_paragraph}\\n{second_paragraph}\"\n",
    "    ax.set_title(title)\n",
    "\n",
    "    ax.grid(True)\n",
    "    fig.tight_layout()\n",
    "\n",
    "    plt.show()\n",
    "\n",
    "\n",
    "for result in results:\n",
    "    show_plot_for_run(result.parameters, result)"
   ]
  }
 ],
 "metadata": {
  "kernelspec": {
   "display_name": "tp2-csp",
   "language": "python",
   "name": "python3"
  },
  "language_info": {
   "codemirror_mode": {
    "name": "ipython",
    "version": 3
   },
   "file_extension": ".py",
   "mimetype": "text/x-python",
   "name": "python",
   "nbconvert_exporter": "python",
   "pygments_lexer": "ipython3",
   "version": "3.12.10"
  }
 },
 "nbformat": 4,
 "nbformat_minor": 5
}
