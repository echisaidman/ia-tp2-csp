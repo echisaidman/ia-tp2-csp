{
 "cells": [
  {
   "cell_type": "code",
   "execution_count": null,
   "id": "ef80a3b7",
   "metadata": {},
   "outputs": [],
   "source": [
    "import matplotlib.pyplot as plt\n",
    "\n",
    "from tp2_csp.ours.algorithm import run\n",
    "from tp2_csp.ours.parameters import Parameters\n",
    "from tp2_csp.ours.plot import create_plot_for_run\n",
    "from tp2_csp.ours.result import SimulationResult"
   ]
  },
  {
   "cell_type": "code",
   "execution_count": null,
   "id": "f3157697",
   "metadata": {},
   "outputs": [],
   "source": [
    "import concurrent.futures\n",
    "\n",
    "parameters_for_simulations: list[Parameters] = [\n",
    "    Parameters(\n",
    "        population_size=1_000,\n",
    "        generations=3_000,\n",
    "        tournament_size=20,\n",
    "        selection_size=100,\n",
    "        mutation_rate=0.70,\n",
    "        mutation_strategy=\"ReverseSubsequence\",\n",
    "        percentage_of_individuals_to_mutate=0.70,\n",
    "    ),\n",
    "    Parameters(\n",
    "        population_size=1_000,\n",
    "        generations=3_000,\n",
    "        tournament_size=30,\n",
    "        selection_size=150,\n",
    "        mutation_rate=0.50,\n",
    "        mutation_strategy=\"ReverseSubsequence\",\n",
    "        percentage_of_individuals_to_mutate=0.50,\n",
    "    ),\n",
    "    Parameters(\n",
    "        population_size=1_000,\n",
    "        generations=3_000,\n",
    "        tournament_size=30,\n",
    "        selection_size=200,\n",
    "        mutation_rate=0.75,\n",
    "        mutation_strategy=\"ReverseSubsequence\",\n",
    "        percentage_of_individuals_to_mutate=0.50,\n",
    "    ),\n",
    "    Parameters(\n",
    "        population_size=1_000,\n",
    "        generations=3_000,\n",
    "        tournament_size=40,\n",
    "        selection_size=200,\n",
    "        mutation_rate=0.80,\n",
    "        mutation_strategy=\"ReverseSubsequence\",\n",
    "        percentage_of_individuals_to_mutate=1,\n",
    "    ),\n",
    "]\n",
    "\n",
    "\n",
    "def run_simulations_in_parallel() -> list[SimulationResult]:\n",
    "    results: list[SimulationResult]\n",
    "    with concurrent.futures.ProcessPoolExecutor() as executor:\n",
    "        results = list(executor.map(run, parameters_for_simulations))\n",
    "    return results\n",
    "\n",
    "\n",
    "def run_simulations_sequentially() -> list[SimulationResult]:\n",
    "    results = [run(p) for p in parameters_for_simulations]\n",
    "    return results\n",
    "\n",
    "\n",
    "results = run_simulations_in_parallel()\n",
    "# results = run_simulations_sequentially()"
   ]
  },
  {
   "cell_type": "code",
   "execution_count": null,
   "id": "138d6bd8",
   "metadata": {},
   "outputs": [],
   "source": [
    "def show_plot_for_run(result: SimulationResult):\n",
    "    fig, ax = create_plot_for_run(result)\n",
    "    plt.show()\n",
    "\n",
    "\n",
    "for result in results:\n",
    "    show_plot_for_run(result)"
   ]
  }
 ],
 "metadata": {
  "kernelspec": {
   "display_name": "tp2-csp",
   "language": "python",
   "name": "python3"
  },
  "language_info": {
   "codemirror_mode": {
    "name": "ipython",
    "version": 3
   },
   "file_extension": ".py",
   "mimetype": "text/x-python",
   "name": "python",
   "nbconvert_exporter": "python",
   "pygments_lexer": "ipython3",
   "version": "3.12.10"
  }
 },
 "nbformat": 4,
 "nbformat_minor": 5
}
